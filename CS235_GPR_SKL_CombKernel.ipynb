{
 "cells": [
  {
   "cell_type": "code",
   "execution_count": 1,
   "id": "d49e0070",
   "metadata": {},
   "outputs": [
    {
     "name": "stderr",
     "output_type": "stream",
     "text": [
      "E:\\Anaconda3\\lib\\site-packages\\sklearn\\gaussian_process\\kernels.py:411: ConvergenceWarning: The optimal value found for dimension 0 of parameter k1__constant_value is close to the specified upper bound 1000.0. Increasing the bound and calling fit again may find a better value.\n",
      "  warnings.warn(\"The optimal value found for \"\n"
     ]
    },
    {
     "name": "stdout",
     "output_type": "stream",
     "text": [
      "Time for fitting - latitude + longitude: 10838.776\n",
      "GPML kernel: 31.6**2 * RBF(length_scale=0.914)\n",
      "Log-marginal-likelihood: -399108338600.936\n",
      "MSE, all features 3: \n"
     ]
    },
    {
     "data": {
      "text/plain": [
       "36479063110.06433"
      ]
     },
     "metadata": {},
     "output_type": "display_data"
    }
   ],
   "source": [
    "import numpy as np\n",
    "import time\n",
    "\n",
    "from matplotlib import pyplot as plt\n",
    "from sklearn.datasets import fetch_openml\n",
    "from sklearn.gaussian_process import GaussianProcessRegressor \n",
    "from sklearn.gaussian_process.kernels import (\n",
    "    RBF,\n",
    "    WhiteKernel,\n",
    "    RationalQuadratic,\n",
    "    ExpSineSquared,\n",
    "    ConstantKernel\n",
    ")\n",
    "\n",
    "from matplotlib import cm\n",
    "from mpl_toolkits.mplot3d import Axes3D\n",
    "\n",
    "%matplotlib inline\n",
    "\n",
    "import pandas as pd\n",
    "\n",
    "obs_df = pd.read_csv('CA_HomePrice_Obs.csv')\n",
    "val_df = pd.read_csv('CA_HomePrice_Val.csv')\n",
    "test_df = pd.read_csv('CA_HomePrice_Test.csv')\n",
    "\n",
    "# display(df)\n",
    "# b = df.iloc[:,0:1].values\n",
    "# print(b)\n",
    "\n",
    "# Specify a GP prior\n",
    "# kernel = 1 * RBF(length_scale = 1)\n",
    "# gp = GaussianProcessRegressor(kernel = kernel, optimizer = None)\n",
    "# print(\"Initial Kernel\\n%s\" % kernel)\n",
    "\n",
    "obs_df_array = np.asarray(obs_df)\n",
    "obs_price = obs_df_array[:, 0]\n",
    "obs_income = obs_df_array[:, 1]\n",
    "obs_lat = obs_df_array[:, 7]\n",
    "obs_long = np.absolute(obs_df_array[:, 8])\n",
    "obs_dist_coast = np.absolute(obs_df_array[:, 9])\n",
    "obs_br_density = np.absolute(obs_df_array[:, 14])\n",
    "obs_avg_rms = np.absolute(obs_df_array[:, 15])\n",
    "obs_dist_city = np.absolute(obs_df_array[:, 16])\n",
    "\n",
    "val_df_array = np.asarray(val_df)\n",
    "val_price = val_df_array[:, 0]\n",
    "val_income = val_df_array[:, 1]\n",
    "val_lat = val_df_array[:, 7]\n",
    "val_long = np.absolute(val_df_array[:, 8])\n",
    "val_dist_coast = np.absolute(val_df_array[:, 9])\n",
    "val_br_density = np.absolute(val_df_array[:, 14])\n",
    "val_avg_rms = np.absolute(val_df_array[:, 15])\n",
    "val_dist_city = np.absolute(val_df_array[:, 16])\n",
    "\n",
    "test_df_array = np.asarray(test_df)\n",
    "test_price = test_df_array[:, 0]\n",
    "test_income = test_df_array[:, 1]\n",
    "test_lat = test_df_array[:, 7]\n",
    "test_long = np.absolute(test_df_array[:, 8])\n",
    "test_dist_coast = np.absolute(test_df_array[:, 9])\n",
    "test_br_density = np.absolute(test_df_array[:, 14])\n",
    "test_avg_rms = np.absolute(test_df_array[:, 15])\n",
    "test_dist_city = np.absolute(test_df_array[:, 16])\n",
    "\n",
    "X_train = np.asarray([obs_income, obs_lat, obs_long, obs_dist_coast, obs_br_density, obs_avg_rms, obs_dist_city]).T\n",
    "Y_train = obs_price.T\n",
    "x_test = np.asarray([test_income, test_lat, test_long, test_dist_coast, test_br_density, test_avg_rms, test_dist_city]).T\n",
    "\n",
    "y_actual = test_price.T\n",
    "\n",
    "# Kernel with parameters given in GPML book\n",
    "k0 = 1 * RBF(length_scale = 1)\n",
    "k1 = 66.0 ** 2 * RBF(length_scale=67.0)  # long term smooth rising trend\n",
    "k2 = (\n",
    "    2.4 ** 2\n",
    "    * RBF(length_scale=90.0)\n",
    "    * ExpSineSquared(length_scale=1.3, periodicity=1.0)\n",
    ")  # seasonal component\n",
    "# medium term irregularity\n",
    "k3 = 0.66 ** 2 * RationalQuadratic(length_scale=1.2, alpha=0.78)\n",
    "k4 = 0.18 ** 2 * RBF(length_scale=0.134) + WhiteKernel(\n",
    "    noise_level=0.19 ** 2\n",
    ")  # noise terms\n",
    "\n",
    "k5 = ConstantKernel(1.0, (1e-3, 1e3)) * RBF(length_scale=10.0)\n",
    "\n",
    "# kernel_gpml = k1 + k2 + k3 + k4\n",
    "kernel_gpml = k5\n",
    "\n",
    "gp = GaussianProcessRegressor(\n",
    "    kernel=kernel_gpml, optimizer = 'fmin_l_bfgs_b',alpha = 1.5, n_restarts_optimizer=10\n",
    ")\n",
    "stime = time.time()\n",
    "gp.fit(X_train, Y_train)\n",
    "print(\"Time for fitting - latitude + longitude: %.3f\" % (time.time() - stime))\n",
    "\n",
    "print(\"GPML kernel: %s\" % gp.kernel_)\n",
    "print(\"Log-marginal-likelihood: %.3f\" % gp.log_marginal_likelihood(gp.kernel_.theta))\n",
    "\n",
    "y_pred, y_std = gp.predict(x_test, return_std=True)\n",
    "\n",
    "mse_all3 = np.mean((y_actual - y_pred)**2)\n",
    "\n",
    "# display(y_actual)\n",
    "# display(y_pred)\n",
    "\n",
    "print(\"MSE, all features 3: \")\n",
    "display(mse_all3)"
   ]
  },
  {
   "cell_type": "code",
   "execution_count": null,
   "id": "0a9e5c6a",
   "metadata": {},
   "outputs": [],
   "source": []
  }
 ],
 "metadata": {
  "kernelspec": {
   "display_name": "Python 3",
   "language": "python",
   "name": "python3"
  },
  "language_info": {
   "codemirror_mode": {
    "name": "ipython",
    "version": 3
   },
   "file_extension": ".py",
   "mimetype": "text/x-python",
   "name": "python",
   "nbconvert_exporter": "python",
   "pygments_lexer": "ipython3",
   "version": "3.8.8"
  }
 },
 "nbformat": 4,
 "nbformat_minor": 5
}
